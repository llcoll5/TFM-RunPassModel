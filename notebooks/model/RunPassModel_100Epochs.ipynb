{
  "cells": [
    {
      "cell_type": "code",
      "execution_count": null,
      "id": "cb1f9862",
      "metadata": {
        "id": "cb1f9862"
      },
      "outputs": [],
      "source": [
        "import torch\n",
        "import os\n",
        "import time\n",
        "\n",
        "import matplotlib.pyplot as plt\n",
        "import pandas as pd\n",
        "import torch.nn as nn\n",
        "\n",
        "from torch.nn.utils.rnn import pad_sequence\n",
        "from torch.utils.data import Dataset\n",
        "from torch.utils.data import DataLoader\n",
        "from tqdm import tqdm\n",
        "from sklearn.metrics import classification_report, roc_auc_score, confusion_matrix, ConfusionMatrixDisplay"
      ]
    },
    {
      "cell_type": "code",
      "execution_count": 2,
      "id": "OCFaCckrzmXO",
      "metadata": {
        "colab": {
          "base_uri": "https://localhost:8080/"
        },
        "id": "OCFaCckrzmXO",
        "outputId": "1f5d4f2e-950f-4167-e079-4cfbd5933d7e"
      },
      "outputs": [
        {
          "name": "stdout",
          "output_type": "stream",
          "text": [
            "Mounted at /content/drive\n"
          ]
        }
      ],
      "source": [
        "from google.colab import drive\n",
        "drive.mount('/content/drive')"
      ]
    },
    {
      "cell_type": "code",
      "execution_count": 3,
      "id": "RwTUHz8Czyvd",
      "metadata": {
        "id": "RwTUHz8Czyvd"
      },
      "outputs": [],
      "source": [
        "PATH = \"/content/drive/MyDrive/Màster Ciència de Dades 2021-2025/master/2024-2025_2n_Sem/🏈 Treball de Final de Màster/notebooks/model/\""
      ]
    },
    {
      "cell_type": "code",
      "execution_count": 4,
      "id": "fd3fa3c6",
      "metadata": {
        "colab": {
          "base_uri": "https://localhost:8080/"
        },
        "id": "fd3fa3c6",
        "outputId": "1b2ebb22-1948-4b47-a6df-811328b36d09"
      },
      "outputs": [
        {
          "name": "stdout",
          "output_type": "stream",
          "text": [
            "Càrrega de dades test...\n",
            "Càrrega de dades: 14.00 segons\n"
          ]
        }
      ],
      "source": [
        "inici_carrega = time.time()\n",
        "print(\"Càrrega de dades test...\")\n",
        "dataset_test = torch.load(os.path.join(PATH, 'nested_plays_test.pt'), weights_only=False)\n",
        "final_carrega = time.time()\n",
        "print(f\"Càrrega de dades: {final_carrega - inici_carrega:.2f} segons\")"
      ]
    },
    {
      "cell_type": "code",
      "execution_count": 5,
      "id": "ufJI1xLnbGvv",
      "metadata": {
        "colab": {
          "base_uri": "https://localhost:8080/"
        },
        "id": "ufJI1xLnbGvv",
        "outputId": "0303f572-dc8a-4470-d908-2fcdac965c44"
      },
      "outputs": [
        {
          "name": "stdout",
          "output_type": "stream",
          "text": [
            "Càrrega de dades train...\n",
            "Càrrega de dades: 47.82 segons\n"
          ]
        }
      ],
      "source": [
        "inici_carrega = time.time()\n",
        "print(\"Càrrega de dades train...\")\n",
        "dataset_train = torch.load(os.path.join(PATH, 'nested_plays_train.pt'), weights_only=False)\n",
        "final_carrega = time.time()\n",
        "print(f\"Càrrega de dades: {final_carrega - inici_carrega:.2f} segons\")"
      ]
    },
    {
      "cell_type": "markdown",
      "id": "6e884f79",
      "metadata": {
        "id": "6e884f79"
      },
      "source": [
        "## Model de Deep Sets"
      ]
    },
    {
      "cell_type": "code",
      "execution_count": 6,
      "id": "5a28f8cd",
      "metadata": {
        "id": "5a28f8cd"
      },
      "outputs": [],
      "source": [
        "class PlayDataset(Dataset):\n",
        "    def __init__(self, data):\n",
        "        self.data = data\n",
        "\n",
        "    def __len__(self):\n",
        "        return len(self.data)\n",
        "\n",
        "    def __getitem__(self, index):\n",
        "        play = self.data[index]\n",
        "        players = play[\"players\"]\n",
        "        label = torch.tensor(play[\"label\"], dtype=torch.long)\n",
        "\n",
        "        player_features = [player[\"features\"] for player in players]\n",
        "        tracking_sequence = [player[\"movements\"] for player in players]\n",
        "\n",
        "        return {\n",
        "            \"player_features\": player_features,\n",
        "            \"tracking_sequence\": tracking_sequence,\n",
        "        }, label"
      ]
    },
    {
      "cell_type": "code",
      "execution_count": 7,
      "id": "dbed293c",
      "metadata": {
        "id": "dbed293c"
      },
      "outputs": [],
      "source": [
        "def collate_fn(batch):\n",
        "    plays, labels_list = zip(*batch)\n",
        "    labels = torch.tensor(labels_list, dtype=torch.long)\n",
        "\n",
        "    player_features_list   = []\n",
        "    tracking_sequence_list  = []\n",
        "    batch_index_list      = []\n",
        "    for i, play in enumerate(plays):\n",
        "        feats = play['player_features']\n",
        "        tracks  = play['tracking_sequence']\n",
        "        for feat, track in zip(feats, tracks):\n",
        "            player_features_list.append(feat)\n",
        "            tracking_sequence_list.append(track)\n",
        "            batch_index_list.append(i)\n",
        "\n",
        "    # Arreglem les dimensions de les llistes\n",
        "    player_features  = torch.stack(player_features_list, dim=0)\n",
        "    tracking_sequence = pad_sequence(tracking_sequence_list, batch_first=True, padding_value=0.0)\n",
        "    batch_index = torch.tensor(batch_index_list, dtype=torch.long)\n",
        "\n",
        "    return tracking_sequence, player_features, batch_index, labels\n"
      ]
    },
    {
      "cell_type": "code",
      "execution_count": null,
      "id": "0dad6375",
      "metadata": {
        "id": "0dad6375"
      },
      "outputs": [],
      "source": [
        "class RunPassModel(nn.Module):\n",
        "    def __init__(self, player_feat_dim, track_feat_dim, hidden_dim, output_dim):\n",
        "        super().__init__()\n",
        "        self.rnn = nn.GRU(track_feat_dim, hidden_dim, batch_first=True)\n",
        "        self.player_encoder = nn.Sequential(\n",
        "            nn.Linear(hidden_dim + player_feat_dim, hidden_dim),\n",
        "            nn.ReLU(),\n",
        "            nn.Linear(hidden_dim, hidden_dim),\n",
        "        )\n",
        "        self.classifier = nn.Sequential(\n",
        "            nn.Linear(hidden_dim, hidden_dim//2),\n",
        "            nn.ReLU(),\n",
        "            nn.Linear(hidden_dim//2, output_dim),\n",
        "        )\n",
        "\n",
        "    def forward(self, mov_seqs, player_feats, batch_idx):\n",
        "        _, h = self.rnn(mov_seqs)\n",
        "        h = h.squeeze()\n",
        "\n",
        "        x = torch.cat([player_feats, h], dim=-1)\n",
        "        player_emb = self.player_encoder(x)\n",
        "\n",
        "        batch_size = batch_idx.max().item() + 1\n",
        "        play_emb = player_emb.new_zeros(batch_size, player_emb.size(1))\n",
        "        play_emb = play_emb.index_add(0, batch_idx, player_emb)\n",
        "\n",
        "        out = self.classifier(play_emb)\n",
        "        return out\n"
      ]
    },
    {
      "cell_type": "code",
      "execution_count": 37,
      "id": "GSOKHpfE3Qco",
      "metadata": {
        "id": "GSOKHpfE3Qco"
      },
      "outputs": [],
      "source": [
        "def train_model(model, dataloader, epochs=10, epochs_save_list=[2, 5, 10]):\n",
        "    total_loss_list, total_acc_list = [], []\n",
        "    for epoch in range(epochs):\n",
        "        model.train()\n",
        "        total_loss = 0\n",
        "        total_acc = 0\n",
        "\n",
        "        print(f\"Len dataloader: {len(dataloader)}\")\n",
        "\n",
        "        for mov_seqs, player_feats, batch_idx, labels in tqdm(dataloader):\n",
        "            mov_seqs = mov_seqs.to(device)\n",
        "            player_feats = player_feats.to(device)\n",
        "            batch_idx = batch_idx.to(device)\n",
        "            labels = labels.to(device).float()\n",
        "\n",
        "            optimizer.zero_grad()\n",
        "            logits = model(mov_seqs, player_feats, batch_idx)\n",
        "            loss = loss_fn(logits.squeeze(1), labels)\n",
        "            loss.backward()\n",
        "            optimizer.step()\n",
        "\n",
        "            total_loss += loss.item()\n",
        "\n",
        "            preds = (torch.sigmoid(logits) > 0.5).float()\n",
        "            total_acc += (preds == labels).float().mean().item()\n",
        "\n",
        "        print(f\"Epoch {epoch+1} - Loss: {total_loss / len(dataloader):.4f} - Acc: {total_acc / len(dataloader):.4f}\")\n",
        "        total_loss_list.append(total_loss / len(dataloader))\n",
        "        total_acc_list.append(total_acc / len(dataloader))\n",
        "        if epoch+1 in epochs_save_list:\n",
        "            torch.save(model.state_dict(), f'model_{epoch+1}Epochs.pth')\n",
        "    return total_loss_list, total_acc_list\n",
        "\n",
        "def test_model(model, dataloader):\n",
        "    model.eval()\n",
        "\n",
        "    all_labels = []\n",
        "    all_probs  = []\n",
        "\n",
        "    model.eval()\n",
        "    with torch.no_grad():\n",
        "        for mov_seqs, player_feats, batch_idx, labels in dataloader:\n",
        "            mov_seqs     = mov_seqs.to(device)\n",
        "            player_feats = player_feats.to(device)\n",
        "            batch_idx    = batch_idx.to(device)\n",
        "            labels       = labels.cpu().numpy()\n",
        "\n",
        "            logits = model(mov_seqs, player_feats, batch_idx)\n",
        "            probs  = torch.sigmoid(logits).squeeze(1).cpu().numpy()\n",
        "\n",
        "            all_labels.extend(labels)\n",
        "            all_probs.extend(probs)\n",
        "\n",
        "    all_preds = [1 if p > 0.5 else 0 for p in all_probs]\n",
        "\n",
        "    print(classification_report(all_labels, all_preds, digits=4))\n",
        "    print(\"ROC AUC:\", roc_auc_score(all_labels, all_probs))\n",
        "\n",
        "    return all_labels, all_preds, classification_report(all_labels, all_preds, output_dict=True)\n",
        "\n",
        "def print_confusion_matrix(all_labels, all_preds, title=\"Matriu de confusió\"):\n",
        "    labels_preds = [\"Carrera\", \"Passada\"]\n",
        "\n",
        "    cm = confusion_matrix(all_labels, all_preds)\n",
        "    disp = ConfusionMatrixDisplay(confusion_matrix=cm, display_labels=labels_preds)\n",
        "    disp.plot()\n",
        "\n",
        "    plt.title(title)\n",
        "\n",
        "    plt.savefig(f'{title}.png')\n",
        "    plt.show()\n",
        "\n"
      ]
    },
    {
      "cell_type": "markdown",
      "id": "ZAbtD5-d2_Aq",
      "metadata": {
        "id": "ZAbtD5-d2_Aq"
      },
      "source": [
        "## 100 Epochs"
      ]
    },
    {
      "cell_type": "code",
      "execution_count": null,
      "id": "yKrt5dOG3BV_",
      "metadata": {
        "colab": {
          "base_uri": "https://localhost:8080/"
        },
        "id": "yKrt5dOG3BV_",
        "outputId": "b1dc9267-4ee1-4ea3-d683-6ffece2d48a5"
      },
      "outputs": [
        {
          "name": "stdout",
          "output_type": "stream",
          "text": [
            "Len dataloader: 1612\n"
          ]
        },
        {
          "name": "stderr",
          "output_type": "stream",
          "text": [
            "100%|██████████| 1612/1612 [00:17<00:00, 90.53it/s]\n"
          ]
        },
        {
          "name": "stdout",
          "output_type": "stream",
          "text": [
            "Epoch 1 - Loss: 0.6934 - Acc: 0.5813\n",
            "Len dataloader: 1612\n"
          ]
        },
        {
          "name": "stderr",
          "output_type": "stream",
          "text": [
            "100%|██████████| 1612/1612 [00:16<00:00, 95.86it/s] \n"
          ]
        },
        {
          "name": "stdout",
          "output_type": "stream",
          "text": [
            "Epoch 2 - Loss: 0.6738 - Acc: 0.5999\n",
            "Len dataloader: 1612\n"
          ]
        },
        {
          "name": "stderr",
          "output_type": "stream",
          "text": [
            "100%|██████████| 1612/1612 [00:16<00:00, 96.41it/s] \n"
          ]
        },
        {
          "name": "stdout",
          "output_type": "stream",
          "text": [
            "Epoch 3 - Loss: 0.6652 - Acc: 0.5946\n",
            "Len dataloader: 1612\n"
          ]
        },
        {
          "name": "stderr",
          "output_type": "stream",
          "text": [
            "100%|██████████| 1612/1612 [00:16<00:00, 96.29it/s]\n"
          ]
        },
        {
          "name": "stdout",
          "output_type": "stream",
          "text": [
            "Epoch 4 - Loss: 0.5620 - Acc: 0.5549\n",
            "Len dataloader: 1612\n"
          ]
        },
        {
          "name": "stderr",
          "output_type": "stream",
          "text": [
            "100%|██████████| 1612/1612 [00:17<00:00, 92.97it/s]\n"
          ]
        },
        {
          "name": "stdout",
          "output_type": "stream",
          "text": [
            "Epoch 5 - Loss: 0.5241 - Acc: 0.5536\n",
            "Len dataloader: 1612\n"
          ]
        },
        {
          "name": "stderr",
          "output_type": "stream",
          "text": [
            "100%|██████████| 1612/1612 [00:18<00:00, 87.15it/s] \n"
          ]
        },
        {
          "name": "stdout",
          "output_type": "stream",
          "text": [
            "Epoch 6 - Loss: 0.4959 - Acc: 0.5495\n",
            "Len dataloader: 1612\n"
          ]
        },
        {
          "name": "stderr",
          "output_type": "stream",
          "text": [
            "100%|██████████| 1612/1612 [00:17<00:00, 94.05it/s] \n"
          ]
        },
        {
          "name": "stdout",
          "output_type": "stream",
          "text": [
            "Epoch 7 - Loss: 0.4209 - Acc: 0.5500\n",
            "Len dataloader: 1612\n"
          ]
        },
        {
          "name": "stderr",
          "output_type": "stream",
          "text": [
            "100%|██████████| 1612/1612 [00:17<00:00, 91.52it/s] \n"
          ]
        },
        {
          "name": "stdout",
          "output_type": "stream",
          "text": [
            "Epoch 8 - Loss: 0.4052 - Acc: 0.5461\n",
            "Len dataloader: 1612\n"
          ]
        },
        {
          "name": "stderr",
          "output_type": "stream",
          "text": [
            "100%|██████████| 1612/1612 [00:18<00:00, 86.79it/s]\n"
          ]
        },
        {
          "name": "stdout",
          "output_type": "stream",
          "text": [
            "Epoch 9 - Loss: 0.3971 - Acc: 0.5490\n",
            "Len dataloader: 1612\n"
          ]
        },
        {
          "name": "stderr",
          "output_type": "stream",
          "text": [
            "100%|██████████| 1612/1612 [00:17<00:00, 91.29it/s] \n"
          ]
        },
        {
          "name": "stdout",
          "output_type": "stream",
          "text": [
            "Epoch 10 - Loss: 0.3910 - Acc: 0.5456\n",
            "Len dataloader: 1612\n"
          ]
        },
        {
          "name": "stderr",
          "output_type": "stream",
          "text": [
            "100%|██████████| 1612/1612 [00:17<00:00, 93.17it/s]\n"
          ]
        },
        {
          "name": "stdout",
          "output_type": "stream",
          "text": [
            "Epoch 11 - Loss: 0.3901 - Acc: 0.5506\n",
            "Len dataloader: 1612\n"
          ]
        },
        {
          "name": "stderr",
          "output_type": "stream",
          "text": [
            "100%|██████████| 1612/1612 [00:17<00:00, 94.69it/s] \n"
          ]
        },
        {
          "name": "stdout",
          "output_type": "stream",
          "text": [
            "Epoch 12 - Loss: 0.3849 - Acc: 0.5492\n",
            "Len dataloader: 1612\n"
          ]
        },
        {
          "name": "stderr",
          "output_type": "stream",
          "text": [
            "100%|██████████| 1612/1612 [00:18<00:00, 84.94it/s]\n"
          ]
        },
        {
          "name": "stdout",
          "output_type": "stream",
          "text": [
            "Epoch 13 - Loss: 0.3809 - Acc: 0.5494\n",
            "Len dataloader: 1612\n"
          ]
        },
        {
          "name": "stderr",
          "output_type": "stream",
          "text": [
            "100%|██████████| 1612/1612 [00:17<00:00, 91.73it/s] \n"
          ]
        },
        {
          "name": "stdout",
          "output_type": "stream",
          "text": [
            "Epoch 14 - Loss: 0.3753 - Acc: 0.5496\n",
            "Len dataloader: 1612\n"
          ]
        },
        {
          "name": "stderr",
          "output_type": "stream",
          "text": [
            "100%|██████████| 1612/1612 [00:17<00:00, 92.86it/s]\n"
          ]
        },
        {
          "name": "stdout",
          "output_type": "stream",
          "text": [
            "Epoch 15 - Loss: 0.3747 - Acc: 0.5536\n",
            "Len dataloader: 1612\n"
          ]
        },
        {
          "name": "stderr",
          "output_type": "stream",
          "text": [
            "100%|██████████| 1612/1612 [00:17<00:00, 89.59it/s]\n"
          ]
        },
        {
          "name": "stdout",
          "output_type": "stream",
          "text": [
            "Epoch 16 - Loss: 0.3723 - Acc: 0.5500\n",
            "Len dataloader: 1612\n"
          ]
        },
        {
          "name": "stderr",
          "output_type": "stream",
          "text": [
            "100%|██████████| 1612/1612 [00:18<00:00, 88.53it/s] \n"
          ]
        },
        {
          "name": "stdout",
          "output_type": "stream",
          "text": [
            "Epoch 17 - Loss: 0.3654 - Acc: 0.5513\n",
            "Len dataloader: 1612\n"
          ]
        },
        {
          "name": "stderr",
          "output_type": "stream",
          "text": [
            "100%|██████████| 1612/1612 [00:16<00:00, 95.83it/s] \n"
          ]
        },
        {
          "name": "stdout",
          "output_type": "stream",
          "text": [
            "Epoch 18 - Loss: 0.3627 - Acc: 0.5510\n",
            "Len dataloader: 1612\n"
          ]
        },
        {
          "name": "stderr",
          "output_type": "stream",
          "text": [
            "100%|██████████| 1612/1612 [00:17<00:00, 92.88it/s] \n"
          ]
        },
        {
          "name": "stdout",
          "output_type": "stream",
          "text": [
            "Epoch 19 - Loss: 0.3599 - Acc: 0.5533\n",
            "Len dataloader: 1612\n"
          ]
        },
        {
          "name": "stderr",
          "output_type": "stream",
          "text": [
            "100%|██████████| 1612/1612 [00:18<00:00, 87.72it/s]\n"
          ]
        },
        {
          "name": "stdout",
          "output_type": "stream",
          "text": [
            "Epoch 20 - Loss: 0.3569 - Acc: 0.5516\n",
            "Len dataloader: 1612\n"
          ]
        },
        {
          "name": "stderr",
          "output_type": "stream",
          "text": [
            "100%|██████████| 1612/1612 [00:17<00:00, 93.76it/s] \n"
          ]
        },
        {
          "name": "stdout",
          "output_type": "stream",
          "text": [
            "Epoch 21 - Loss: 0.3504 - Acc: 0.5512\n",
            "Len dataloader: 1612\n"
          ]
        },
        {
          "name": "stderr",
          "output_type": "stream",
          "text": [
            "100%|██████████| 1612/1612 [00:17<00:00, 94.72it/s] \n"
          ]
        },
        {
          "name": "stdout",
          "output_type": "stream",
          "text": [
            "Epoch 22 - Loss: 0.3491 - Acc: 0.5506\n",
            "Len dataloader: 1612\n"
          ]
        },
        {
          "name": "stderr",
          "output_type": "stream",
          "text": [
            "100%|██████████| 1612/1612 [00:17<00:00, 94.10it/s] \n"
          ]
        },
        {
          "name": "stdout",
          "output_type": "stream",
          "text": [
            "Epoch 23 - Loss: 0.3411 - Acc: 0.5534\n",
            "Len dataloader: 1612\n"
          ]
        },
        {
          "name": "stderr",
          "output_type": "stream",
          "text": [
            "100%|██████████| 1612/1612 [00:17<00:00, 93.43it/s]\n"
          ]
        },
        {
          "name": "stdout",
          "output_type": "stream",
          "text": [
            "Epoch 24 - Loss: 0.3370 - Acc: 0.5557\n",
            "Len dataloader: 1612\n"
          ]
        },
        {
          "name": "stderr",
          "output_type": "stream",
          "text": [
            "100%|██████████| 1612/1612 [00:17<00:00, 92.52it/s] \n"
          ]
        },
        {
          "name": "stdout",
          "output_type": "stream",
          "text": [
            "Epoch 25 - Loss: 0.3351 - Acc: 0.5528\n",
            "Len dataloader: 1612\n"
          ]
        },
        {
          "name": "stderr",
          "output_type": "stream",
          "text": [
            "100%|██████████| 1612/1612 [00:16<00:00, 98.66it/s] \n"
          ]
        },
        {
          "name": "stdout",
          "output_type": "stream",
          "text": [
            "Epoch 26 - Loss: 0.3314 - Acc: 0.5560\n",
            "Len dataloader: 1612\n"
          ]
        },
        {
          "name": "stderr",
          "output_type": "stream",
          "text": [
            "100%|██████████| 1612/1612 [00:16<00:00, 95.11it/s] \n"
          ]
        },
        {
          "name": "stdout",
          "output_type": "stream",
          "text": [
            "Epoch 27 - Loss: 0.3247 - Acc: 0.5551\n",
            "Len dataloader: 1612\n"
          ]
        },
        {
          "name": "stderr",
          "output_type": "stream",
          "text": [
            "100%|██████████| 1612/1612 [00:17<00:00, 94.66it/s] \n"
          ]
        },
        {
          "name": "stdout",
          "output_type": "stream",
          "text": [
            "Epoch 28 - Loss: 0.3231 - Acc: 0.5556\n",
            "Len dataloader: 1612\n"
          ]
        },
        {
          "name": "stderr",
          "output_type": "stream",
          "text": [
            "100%|██████████| 1612/1612 [00:19<00:00, 84.25it/s]\n"
          ]
        },
        {
          "name": "stdout",
          "output_type": "stream",
          "text": [
            "Epoch 29 - Loss: 0.3172 - Acc: 0.5551\n",
            "Len dataloader: 1612\n"
          ]
        },
        {
          "name": "stderr",
          "output_type": "stream",
          "text": [
            "100%|██████████| 1612/1612 [00:17<00:00, 92.24it/s] \n"
          ]
        },
        {
          "name": "stdout",
          "output_type": "stream",
          "text": [
            "Epoch 30 - Loss: 0.3151 - Acc: 0.5543\n",
            "Len dataloader: 1612\n"
          ]
        },
        {
          "name": "stderr",
          "output_type": "stream",
          "text": [
            "100%|██████████| 1612/1612 [00:17<00:00, 93.37it/s] \n"
          ]
        },
        {
          "name": "stdout",
          "output_type": "stream",
          "text": [
            "Epoch 31 - Loss: 0.3113 - Acc: 0.5550\n",
            "Len dataloader: 1612\n"
          ]
        },
        {
          "name": "stderr",
          "output_type": "stream",
          "text": [
            "100%|██████████| 1612/1612 [00:18<00:00, 85.44it/s]\n"
          ]
        },
        {
          "name": "stdout",
          "output_type": "stream",
          "text": [
            "Epoch 32 - Loss: 0.3103 - Acc: 0.5584\n",
            "Len dataloader: 1612\n"
          ]
        },
        {
          "name": "stderr",
          "output_type": "stream",
          "text": [
            "100%|██████████| 1612/1612 [00:17<00:00, 92.35it/s] \n"
          ]
        },
        {
          "name": "stdout",
          "output_type": "stream",
          "text": [
            "Epoch 33 - Loss: 0.3047 - Acc: 0.5575\n",
            "Len dataloader: 1612\n"
          ]
        },
        {
          "name": "stderr",
          "output_type": "stream",
          "text": [
            "100%|██████████| 1612/1612 [00:16<00:00, 99.60it/s] \n"
          ]
        },
        {
          "name": "stdout",
          "output_type": "stream",
          "text": [
            "Epoch 34 - Loss: 0.2998 - Acc: 0.5558\n",
            "Len dataloader: 1612\n"
          ]
        },
        {
          "name": "stderr",
          "output_type": "stream",
          "text": [
            "100%|██████████| 1612/1612 [00:16<00:00, 95.28it/s] \n"
          ]
        },
        {
          "name": "stdout",
          "output_type": "stream",
          "text": [
            "Epoch 35 - Loss: 0.2945 - Acc: 0.5605\n",
            "Len dataloader: 1612\n"
          ]
        },
        {
          "name": "stderr",
          "output_type": "stream",
          "text": [
            "100%|██████████| 1612/1612 [00:17<00:00, 93.18it/s]\n"
          ]
        },
        {
          "name": "stdout",
          "output_type": "stream",
          "text": [
            "Epoch 36 - Loss: 0.2936 - Acc: 0.5588\n",
            "Len dataloader: 1612\n"
          ]
        },
        {
          "name": "stderr",
          "output_type": "stream",
          "text": [
            "100%|██████████| 1612/1612 [00:18<00:00, 87.04it/s] \n"
          ]
        },
        {
          "name": "stdout",
          "output_type": "stream",
          "text": [
            "Epoch 37 - Loss: 0.2865 - Acc: 0.5577\n",
            "Len dataloader: 1612\n"
          ]
        },
        {
          "name": "stderr",
          "output_type": "stream",
          "text": [
            "100%|██████████| 1612/1612 [00:17<00:00, 94.66it/s]\n"
          ]
        },
        {
          "name": "stdout",
          "output_type": "stream",
          "text": [
            "Epoch 38 - Loss: 0.2798 - Acc: 0.5605\n",
            "Len dataloader: 1612\n"
          ]
        },
        {
          "name": "stderr",
          "output_type": "stream",
          "text": [
            "100%|██████████| 1612/1612 [00:16<00:00, 95.18it/s] \n"
          ]
        },
        {
          "name": "stdout",
          "output_type": "stream",
          "text": [
            "Epoch 39 - Loss: 0.2784 - Acc: 0.5591\n",
            "Len dataloader: 1612\n"
          ]
        },
        {
          "name": "stderr",
          "output_type": "stream",
          "text": [
            "100%|██████████| 1612/1612 [00:17<00:00, 91.50it/s]\n"
          ]
        },
        {
          "name": "stdout",
          "output_type": "stream",
          "text": [
            "Epoch 40 - Loss: 0.2776 - Acc: 0.5611\n",
            "Len dataloader: 1612\n"
          ]
        },
        {
          "name": "stderr",
          "output_type": "stream",
          "text": [
            "100%|██████████| 1612/1612 [00:18<00:00, 89.17it/s] \n"
          ]
        },
        {
          "name": "stdout",
          "output_type": "stream",
          "text": [
            "Epoch 41 - Loss: 0.2729 - Acc: 0.5581\n",
            "Len dataloader: 1612\n"
          ]
        },
        {
          "name": "stderr",
          "output_type": "stream",
          "text": [
            "100%|██████████| 1612/1612 [00:16<00:00, 99.06it/s] \n"
          ]
        },
        {
          "name": "stdout",
          "output_type": "stream",
          "text": [
            "Epoch 42 - Loss: 0.2747 - Acc: 0.5577\n",
            "Len dataloader: 1612\n"
          ]
        },
        {
          "name": "stderr",
          "output_type": "stream",
          "text": [
            "100%|██████████| 1612/1612 [00:16<00:00, 97.19it/s]\n"
          ]
        },
        {
          "name": "stdout",
          "output_type": "stream",
          "text": [
            "Epoch 43 - Loss: 0.2684 - Acc: 0.5603\n",
            "Len dataloader: 1612\n"
          ]
        },
        {
          "name": "stderr",
          "output_type": "stream",
          "text": [
            "100%|██████████| 1612/1612 [00:16<00:00, 98.24it/s] \n"
          ]
        },
        {
          "name": "stdout",
          "output_type": "stream",
          "text": [
            "Epoch 44 - Loss: 0.2774 - Acc: 0.5621\n",
            "Len dataloader: 1612\n"
          ]
        },
        {
          "name": "stderr",
          "output_type": "stream",
          "text": [
            "100%|██████████| 1612/1612 [00:18<00:00, 87.94it/s]\n"
          ]
        },
        {
          "name": "stdout",
          "output_type": "stream",
          "text": [
            "Epoch 45 - Loss: 0.2686 - Acc: 0.5568\n",
            "Len dataloader: 1612\n"
          ]
        },
        {
          "name": "stderr",
          "output_type": "stream",
          "text": [
            "100%|██████████| 1612/1612 [00:16<00:00, 95.22it/s] \n"
          ]
        },
        {
          "name": "stdout",
          "output_type": "stream",
          "text": [
            "Epoch 46 - Loss: 0.2620 - Acc: 0.5602\n",
            "Len dataloader: 1612\n"
          ]
        },
        {
          "name": "stderr",
          "output_type": "stream",
          "text": [
            "100%|██████████| 1612/1612 [00:17<00:00, 93.64it/s] \n"
          ]
        },
        {
          "name": "stdout",
          "output_type": "stream",
          "text": [
            "Epoch 47 - Loss: 0.2568 - Acc: 0.5643\n",
            "Len dataloader: 1612\n"
          ]
        },
        {
          "name": "stderr",
          "output_type": "stream",
          "text": [
            "100%|██████████| 1612/1612 [00:16<00:00, 95.09it/s] \n"
          ]
        },
        {
          "name": "stdout",
          "output_type": "stream",
          "text": [
            "Epoch 48 - Loss: 0.2590 - Acc: 0.5621\n",
            "Len dataloader: 1612\n"
          ]
        },
        {
          "name": "stderr",
          "output_type": "stream",
          "text": [
            "100%|██████████| 1612/1612 [00:18<00:00, 87.50it/s]\n"
          ]
        },
        {
          "name": "stdout",
          "output_type": "stream",
          "text": [
            "Epoch 49 - Loss: 0.2493 - Acc: 0.5611\n",
            "Len dataloader: 1612\n"
          ]
        },
        {
          "name": "stderr",
          "output_type": "stream",
          "text": [
            "100%|██████████| 1612/1612 [00:17<00:00, 94.74it/s] \n"
          ]
        },
        {
          "name": "stdout",
          "output_type": "stream",
          "text": [
            "Epoch 50 - Loss: 0.2451 - Acc: 0.5608\n",
            "Len dataloader: 1612\n"
          ]
        },
        {
          "name": "stderr",
          "output_type": "stream",
          "text": [
            "100%|██████████| 1612/1612 [00:16<00:00, 95.81it/s] \n"
          ]
        },
        {
          "name": "stdout",
          "output_type": "stream",
          "text": [
            "Epoch 51 - Loss: 0.2462 - Acc: 0.5639\n",
            "Len dataloader: 1612\n"
          ]
        },
        {
          "name": "stderr",
          "output_type": "stream",
          "text": [
            "100%|██████████| 1612/1612 [00:17<00:00, 93.24it/s] \n"
          ]
        },
        {
          "name": "stdout",
          "output_type": "stream",
          "text": [
            "Epoch 52 - Loss: 0.2431 - Acc: 0.5615\n",
            "Len dataloader: 1612\n"
          ]
        },
        {
          "name": "stderr",
          "output_type": "stream",
          "text": [
            "100%|██████████| 1612/1612 [00:19<00:00, 83.70it/s]\n"
          ]
        },
        {
          "name": "stdout",
          "output_type": "stream",
          "text": [
            "Epoch 53 - Loss: 0.2513 - Acc: 0.5632\n",
            "Len dataloader: 1612\n"
          ]
        },
        {
          "name": "stderr",
          "output_type": "stream",
          "text": [
            "100%|██████████| 1612/1612 [00:17<00:00, 90.04it/s] \n"
          ]
        },
        {
          "name": "stdout",
          "output_type": "stream",
          "text": [
            "Epoch 54 - Loss: 0.2489 - Acc: 0.5636\n",
            "Len dataloader: 1612\n"
          ]
        },
        {
          "name": "stderr",
          "output_type": "stream",
          "text": [
            "100%|██████████| 1612/1612 [00:17<00:00, 92.35it/s] \n"
          ]
        },
        {
          "name": "stdout",
          "output_type": "stream",
          "text": [
            "Epoch 55 - Loss: 0.2463 - Acc: 0.5630\n",
            "Len dataloader: 1612\n"
          ]
        },
        {
          "name": "stderr",
          "output_type": "stream",
          "text": [
            "100%|██████████| 1612/1612 [00:18<00:00, 86.40it/s]\n"
          ]
        },
        {
          "name": "stdout",
          "output_type": "stream",
          "text": [
            "Epoch 56 - Loss: 0.2475 - Acc: 0.5670\n",
            "Len dataloader: 1612\n"
          ]
        },
        {
          "name": "stderr",
          "output_type": "stream",
          "text": [
            "100%|██████████| 1612/1612 [00:18<00:00, 86.31it/s]\n"
          ]
        },
        {
          "name": "stdout",
          "output_type": "stream",
          "text": [
            "Epoch 57 - Loss: 0.2382 - Acc: 0.5638\n",
            "Len dataloader: 1612\n"
          ]
        },
        {
          "name": "stderr",
          "output_type": "stream",
          "text": [
            "100%|██████████| 1612/1612 [00:17<00:00, 90.77it/s]\n"
          ]
        },
        {
          "name": "stdout",
          "output_type": "stream",
          "text": [
            "Epoch 58 - Loss: 0.2390 - Acc: 0.5642\n",
            "Len dataloader: 1612\n"
          ]
        },
        {
          "name": "stderr",
          "output_type": "stream",
          "text": [
            "100%|██████████| 1612/1612 [00:17<00:00, 91.04it/s] \n"
          ]
        },
        {
          "name": "stdout",
          "output_type": "stream",
          "text": [
            "Epoch 59 - Loss: 0.2312 - Acc: 0.5618\n",
            "Len dataloader: 1612\n"
          ]
        },
        {
          "name": "stderr",
          "output_type": "stream",
          "text": [
            "100%|██████████| 1612/1612 [00:19<00:00, 83.46it/s]\n"
          ]
        },
        {
          "name": "stdout",
          "output_type": "stream",
          "text": [
            "Epoch 60 - Loss: 0.2309 - Acc: 0.5635\n",
            "Len dataloader: 1612\n"
          ]
        },
        {
          "name": "stderr",
          "output_type": "stream",
          "text": [
            "100%|██████████| 1612/1612 [00:18<00:00, 88.61it/s]\n"
          ]
        },
        {
          "name": "stdout",
          "output_type": "stream",
          "text": [
            "Epoch 61 - Loss: 0.2342 - Acc: 0.5623\n",
            "Len dataloader: 1612\n"
          ]
        },
        {
          "name": "stderr",
          "output_type": "stream",
          "text": [
            "100%|██████████| 1612/1612 [00:17<00:00, 90.22it/s]\n"
          ]
        },
        {
          "name": "stdout",
          "output_type": "stream",
          "text": [
            "Epoch 62 - Loss: 0.2229 - Acc: 0.5644\n",
            "Len dataloader: 1612\n"
          ]
        },
        {
          "name": "stderr",
          "output_type": "stream",
          "text": [
            "100%|██████████| 1612/1612 [00:19<00:00, 83.62it/s]\n"
          ]
        },
        {
          "name": "stdout",
          "output_type": "stream",
          "text": [
            "Epoch 63 - Loss: 0.2250 - Acc: 0.5676\n",
            "Len dataloader: 1612\n"
          ]
        },
        {
          "name": "stderr",
          "output_type": "stream",
          "text": [
            "100%|██████████| 1612/1612 [00:17<00:00, 90.40it/s]\n"
          ]
        },
        {
          "name": "stdout",
          "output_type": "stream",
          "text": [
            "Epoch 64 - Loss: 0.2169 - Acc: 0.5645\n",
            "Len dataloader: 1612\n"
          ]
        },
        {
          "name": "stderr",
          "output_type": "stream",
          "text": [
            "100%|██████████| 1612/1612 [00:17<00:00, 92.28it/s] \n"
          ]
        },
        {
          "name": "stdout",
          "output_type": "stream",
          "text": [
            "Epoch 65 - Loss: 0.2195 - Acc: 0.5641\n",
            "Len dataloader: 1612\n"
          ]
        },
        {
          "name": "stderr",
          "output_type": "stream",
          "text": [
            "100%|██████████| 1612/1612 [00:17<00:00, 93.06it/s]\n"
          ]
        },
        {
          "name": "stdout",
          "output_type": "stream",
          "text": [
            "Epoch 66 - Loss: 0.2179 - Acc: 0.5685\n",
            "Len dataloader: 1612\n"
          ]
        },
        {
          "name": "stderr",
          "output_type": "stream",
          "text": [
            "100%|██████████| 1612/1612 [00:18<00:00, 85.65it/s]\n"
          ]
        },
        {
          "name": "stdout",
          "output_type": "stream",
          "text": [
            "Epoch 67 - Loss: 0.2260 - Acc: 0.5659\n",
            "Len dataloader: 1612\n"
          ]
        },
        {
          "name": "stderr",
          "output_type": "stream",
          "text": [
            "100%|██████████| 1612/1612 [00:16<00:00, 95.44it/s] \n"
          ]
        },
        {
          "name": "stdout",
          "output_type": "stream",
          "text": [
            "Epoch 68 - Loss: 0.2093 - Acc: 0.5651\n",
            "Len dataloader: 1612\n"
          ]
        },
        {
          "name": "stderr",
          "output_type": "stream",
          "text": [
            "100%|██████████| 1612/1612 [00:16<00:00, 95.42it/s] \n"
          ]
        },
        {
          "name": "stdout",
          "output_type": "stream",
          "text": [
            "Epoch 69 - Loss: 0.2242 - Acc: 0.5670\n",
            "Len dataloader: 1612\n"
          ]
        },
        {
          "name": "stderr",
          "output_type": "stream",
          "text": [
            "100%|██████████| 1612/1612 [00:16<00:00, 97.05it/s] \n"
          ]
        },
        {
          "name": "stdout",
          "output_type": "stream",
          "text": [
            "Epoch 70 - Loss: 0.2101 - Acc: 0.5674\n",
            "Len dataloader: 1612\n"
          ]
        },
        {
          "name": "stderr",
          "output_type": "stream",
          "text": [
            "100%|██████████| 1612/1612 [00:17<00:00, 91.36it/s]\n"
          ]
        },
        {
          "name": "stdout",
          "output_type": "stream",
          "text": [
            "Epoch 71 - Loss: 0.2217 - Acc: 0.5662\n",
            "Len dataloader: 1612\n"
          ]
        },
        {
          "name": "stderr",
          "output_type": "stream",
          "text": [
            "100%|██████████| 1612/1612 [00:17<00:00, 90.41it/s] \n"
          ]
        },
        {
          "name": "stdout",
          "output_type": "stream",
          "text": [
            "Epoch 72 - Loss: 0.2310 - Acc: 0.5646\n",
            "Len dataloader: 1612\n"
          ]
        },
        {
          "name": "stderr",
          "output_type": "stream",
          "text": [
            "100%|██████████| 1612/1612 [00:18<00:00, 87.84it/s] \n"
          ]
        },
        {
          "name": "stdout",
          "output_type": "stream",
          "text": [
            "Epoch 73 - Loss: 0.2119 - Acc: 0.5674\n",
            "Len dataloader: 1612\n"
          ]
        },
        {
          "name": "stderr",
          "output_type": "stream",
          "text": [
            "100%|██████████| 1612/1612 [00:17<00:00, 93.58it/s]\n"
          ]
        },
        {
          "name": "stdout",
          "output_type": "stream",
          "text": [
            "Epoch 74 - Loss: 0.2060 - Acc: 0.5648\n",
            "Len dataloader: 1612\n"
          ]
        },
        {
          "name": "stderr",
          "output_type": "stream",
          "text": [
            "100%|██████████| 1612/1612 [00:33<00:00, 47.91it/s]\n"
          ]
        },
        {
          "name": "stdout",
          "output_type": "stream",
          "text": [
            "Epoch 75 - Loss: 0.2123 - Acc: 0.5691\n",
            "Len dataloader: 1612\n"
          ]
        },
        {
          "name": "stderr",
          "output_type": "stream",
          "text": [
            "100%|██████████| 1612/1612 [00:17<00:00, 91.19it/s] \n"
          ]
        },
        {
          "name": "stdout",
          "output_type": "stream",
          "text": [
            "Epoch 76 - Loss: 0.2093 - Acc: 0.5660\n",
            "Len dataloader: 1612\n"
          ]
        },
        {
          "name": "stderr",
          "output_type": "stream",
          "text": [
            "100%|██████████| 1612/1612 [00:17<00:00, 93.40it/s]\n"
          ]
        },
        {
          "name": "stdout",
          "output_type": "stream",
          "text": [
            "Epoch 77 - Loss: 0.2119 - Acc: 0.5668\n",
            "Len dataloader: 1612\n"
          ]
        },
        {
          "name": "stderr",
          "output_type": "stream",
          "text": [
            "100%|██████████| 1612/1612 [00:17<00:00, 92.18it/s] \n"
          ]
        },
        {
          "name": "stdout",
          "output_type": "stream",
          "text": [
            "Epoch 78 - Loss: 0.2278 - Acc: 0.5638\n",
            "Len dataloader: 1612\n"
          ]
        },
        {
          "name": "stderr",
          "output_type": "stream",
          "text": [
            "100%|██████████| 1612/1612 [00:18<00:00, 85.55it/s]\n"
          ]
        },
        {
          "name": "stdout",
          "output_type": "stream",
          "text": [
            "Epoch 79 - Loss: 0.2077 - Acc: 0.5659\n",
            "Len dataloader: 1612\n"
          ]
        },
        {
          "name": "stderr",
          "output_type": "stream",
          "text": [
            "100%|██████████| 1612/1612 [00:17<00:00, 89.87it/s] \n"
          ]
        },
        {
          "name": "stdout",
          "output_type": "stream",
          "text": [
            "Epoch 80 - Loss: 0.1904 - Acc: 0.5693\n",
            "Len dataloader: 1612\n"
          ]
        },
        {
          "name": "stderr",
          "output_type": "stream",
          "text": [
            "100%|██████████| 1612/1612 [00:20<00:00, 79.72it/s] \n"
          ]
        },
        {
          "name": "stdout",
          "output_type": "stream",
          "text": [
            "Epoch 81 - Loss: 0.2038 - Acc: 0.5635\n",
            "Len dataloader: 1612\n"
          ]
        },
        {
          "name": "stderr",
          "output_type": "stream",
          "text": [
            "100%|██████████| 1612/1612 [00:18<00:00, 88.14it/s]\n"
          ]
        },
        {
          "name": "stdout",
          "output_type": "stream",
          "text": [
            "Epoch 82 - Loss: 0.2102 - Acc: 0.5695\n",
            "Len dataloader: 1612\n"
          ]
        },
        {
          "name": "stderr",
          "output_type": "stream",
          "text": [
            "100%|██████████| 1612/1612 [00:18<00:00, 86.07it/s] \n"
          ]
        },
        {
          "name": "stdout",
          "output_type": "stream",
          "text": [
            "Epoch 83 - Loss: 0.2000 - Acc: 0.5672\n",
            "Len dataloader: 1612\n"
          ]
        },
        {
          "name": "stderr",
          "output_type": "stream",
          "text": [
            "100%|██████████| 1612/1612 [00:17<00:00, 90.29it/s] \n"
          ]
        },
        {
          "name": "stdout",
          "output_type": "stream",
          "text": [
            "Epoch 84 - Loss: 0.1940 - Acc: 0.5699\n",
            "Len dataloader: 1612\n"
          ]
        },
        {
          "name": "stderr",
          "output_type": "stream",
          "text": [
            "100%|██████████| 1612/1612 [00:17<00:00, 91.04it/s] \n"
          ]
        },
        {
          "name": "stdout",
          "output_type": "stream",
          "text": [
            "Epoch 85 - Loss: 0.1991 - Acc: 0.5683\n",
            "Len dataloader: 1612\n"
          ]
        },
        {
          "name": "stderr",
          "output_type": "stream",
          "text": [
            "100%|██████████| 1612/1612 [00:18<00:00, 85.41it/s]\n"
          ]
        },
        {
          "name": "stdout",
          "output_type": "stream",
          "text": [
            "Epoch 86 - Loss: 0.1961 - Acc: 0.5657\n",
            "Len dataloader: 1612\n"
          ]
        },
        {
          "name": "stderr",
          "output_type": "stream",
          "text": [
            "100%|██████████| 1612/1612 [00:17<00:00, 92.43it/s] \n"
          ]
        },
        {
          "name": "stdout",
          "output_type": "stream",
          "text": [
            "Epoch 87 - Loss: 0.1872 - Acc: 0.5675\n",
            "Len dataloader: 1612\n"
          ]
        },
        {
          "name": "stderr",
          "output_type": "stream",
          "text": [
            "100%|██████████| 1612/1612 [00:17<00:00, 92.37it/s]\n"
          ]
        },
        {
          "name": "stdout",
          "output_type": "stream",
          "text": [
            "Epoch 88 - Loss: 0.1807 - Acc: 0.5676\n",
            "Len dataloader: 1612\n"
          ]
        },
        {
          "name": "stderr",
          "output_type": "stream",
          "text": [
            "100%|██████████| 1612/1612 [00:17<00:00, 89.91it/s]\n"
          ]
        },
        {
          "name": "stdout",
          "output_type": "stream",
          "text": [
            "Epoch 89 - Loss: 0.2003 - Acc: 0.5681\n",
            "Len dataloader: 1612\n"
          ]
        },
        {
          "name": "stderr",
          "output_type": "stream",
          "text": [
            "100%|██████████| 1612/1612 [00:18<00:00, 87.82it/s]\n"
          ]
        },
        {
          "name": "stdout",
          "output_type": "stream",
          "text": [
            "Epoch 90 - Loss: 0.1831 - Acc: 0.5691\n",
            "Len dataloader: 1612\n"
          ]
        },
        {
          "name": "stderr",
          "output_type": "stream",
          "text": [
            "100%|██████████| 1612/1612 [00:17<00:00, 93.97it/s] \n"
          ]
        },
        {
          "name": "stdout",
          "output_type": "stream",
          "text": [
            "Epoch 91 - Loss: 0.2050 - Acc: 0.5709\n",
            "Len dataloader: 1612\n"
          ]
        },
        {
          "name": "stderr",
          "output_type": "stream",
          "text": [
            "100%|██████████| 1612/1612 [00:17<00:00, 94.09it/s] \n"
          ]
        },
        {
          "name": "stdout",
          "output_type": "stream",
          "text": [
            "Epoch 92 - Loss: 0.1817 - Acc: 0.5668\n",
            "Len dataloader: 1612\n"
          ]
        },
        {
          "name": "stderr",
          "output_type": "stream",
          "text": [
            "100%|██████████| 1612/1612 [00:17<00:00, 92.73it/s]\n"
          ]
        },
        {
          "name": "stdout",
          "output_type": "stream",
          "text": [
            "Epoch 93 - Loss: 0.1817 - Acc: 0.5689\n",
            "Len dataloader: 1612\n"
          ]
        },
        {
          "name": "stderr",
          "output_type": "stream",
          "text": [
            "100%|██████████| 1612/1612 [00:18<00:00, 87.14it/s] \n"
          ]
        },
        {
          "name": "stdout",
          "output_type": "stream",
          "text": [
            "Epoch 94 - Loss: 0.1728 - Acc: 0.5714\n",
            "Len dataloader: 1612\n"
          ]
        },
        {
          "name": "stderr",
          "output_type": "stream",
          "text": [
            "100%|██████████| 1612/1612 [00:17<00:00, 93.22it/s] \n"
          ]
        },
        {
          "name": "stdout",
          "output_type": "stream",
          "text": [
            "Epoch 95 - Loss: 0.1798 - Acc: 0.5713\n",
            "Len dataloader: 1612\n"
          ]
        },
        {
          "name": "stderr",
          "output_type": "stream",
          "text": [
            "100%|██████████| 1612/1612 [00:17<00:00, 93.30it/s] \n"
          ]
        },
        {
          "name": "stdout",
          "output_type": "stream",
          "text": [
            "Epoch 96 - Loss: 0.2007 - Acc: 0.5636\n",
            "Len dataloader: 1612\n"
          ]
        },
        {
          "name": "stderr",
          "output_type": "stream",
          "text": [
            "100%|██████████| 1612/1612 [00:16<00:00, 95.53it/s] \n"
          ]
        },
        {
          "name": "stdout",
          "output_type": "stream",
          "text": [
            "Epoch 97 - Loss: 0.1799 - Acc: 0.5693\n",
            "Len dataloader: 1612\n"
          ]
        },
        {
          "name": "stderr",
          "output_type": "stream",
          "text": [
            "100%|██████████| 1612/1612 [00:18<00:00, 86.94it/s]\n"
          ]
        },
        {
          "name": "stdout",
          "output_type": "stream",
          "text": [
            "Epoch 98 - Loss: 0.1750 - Acc: 0.5693\n",
            "Len dataloader: 1612\n"
          ]
        },
        {
          "name": "stderr",
          "output_type": "stream",
          "text": [
            "100%|██████████| 1612/1612 [00:17<00:00, 94.00it/s] \n"
          ]
        },
        {
          "name": "stdout",
          "output_type": "stream",
          "text": [
            "Epoch 99 - Loss: 0.1826 - Acc: 0.5696\n",
            "Len dataloader: 1612\n"
          ]
        },
        {
          "name": "stderr",
          "output_type": "stream",
          "text": [
            "100%|██████████| 1612/1612 [00:16<00:00, 95.19it/s] "
          ]
        },
        {
          "name": "stdout",
          "output_type": "stream",
          "text": [
            "Epoch 100 - Loss: 0.1935 - Acc: 0.5700\n"
          ]
        },
        {
          "name": "stderr",
          "output_type": "stream",
          "text": [
            "\n"
          ]
        }
      ],
      "source": [
        "dataset = PlayDataset(dataset_train)\n",
        "dataloader = DataLoader(dataset, batch_size=8, collate_fn=collate_fn,\n",
        "                    shuffle=True, num_workers=2, pin_memory=True)\n",
        "epochs_save_list = [5, 6, 8, 10, 15, 20, 30, 50, 100]\n",
        "\n",
        "\n",
        "device = torch.device(\"cuda\" if torch.cuda.is_available() else \"cpu\")\n",
        "torch.manual_seed(42)\n",
        "torch.cuda.manual_seed(42)\n",
        "torch.cuda.manual_seed_all(42)\n",
        "model = RunPassModel(\n",
        "    player_feat_dim=12,\n",
        "    track_feat_dim=7,\n",
        "    hidden_dim=64,\n",
        "    output_dim=1\n",
        ").to(device)\n",
        "\n",
        "loss_fn = nn.BCEWithLogitsLoss()\n",
        "optimizer = torch.optim.Adam(model.parameters(), lr=1e-3)\n",
        "\n",
        "loss_model, acc_model = train_model(model, dataloader, epochs=100, epochs_save_list=epochs_save_list)"
      ]
    },
    {
      "cell_type": "code",
      "execution_count": 52,
      "id": "9tFll1HqXDjo",
      "metadata": {
        "colab": {
          "base_uri": "https://localhost:8080/",
          "height": 472
        },
        "id": "9tFll1HqXDjo",
        "outputId": "0a3ebe45-c8c3-4225-8801-162e9ef7ae88"
      },
      "outputs": [
        {
          "data": {
            "image/png": "[encoded data removed]",
            "text/plain": [
              "<Figure size 640x480 with 1 Axes>"
            ]
          },
          "metadata": {},
          "output_type": "display_data"
        }
      ],
      "source": [
        "plt.plot(loss_model, '-b', label='loss')\n",
        "plt.plot(acc_model, '-r', label='accuracy')\n",
        "\n",
        "title = \"Corba de pèrdua segons BCEWithLogitsLoss\"\n",
        "plt.xlabel(\"Epochs\")\n",
        "plt.legend()\n",
        "plt.title(title)\n",
        "\n",
        "# save image\n",
        "plt.savefig(title+\".png\")  # should before show method\n",
        "\n",
        "plt.show()\n"
      ]
    },
    {
      "cell_type": "markdown",
      "id": "yWk1ugZM3noh",
      "metadata": {
        "id": "yWk1ugZM3noh"
      },
      "source": [
        "## Testing Epochs"
      ]
    },
    {
      "cell_type": "code",
      "execution_count": 13,
      "id": "WWgSgbzN3BT3",
      "metadata": {
        "id": "WWgSgbzN3BT3"
      },
      "outputs": [],
      "source": [
        "dataset_test = PlayDataset(dataset_test)\n",
        "dataloader_test = DataLoader(\n",
        "    dataset_test,\n",
        "    batch_size=8,\n",
        "    collate_fn=collate_fn,\n",
        "    shuffle=False,\n",
        "    num_workers=2,\n",
        "    pin_memory=True\n",
        ")"
      ]
    },
    {
      "cell_type": "code",
      "execution_count": null,
      "id": "rzWlj_Ea3BM0",
      "metadata": {
        "colab": {
          "base_uri": "https://localhost:8080/",
          "height": 1000
        },
        "id": "rzWlj_Ea3BM0",
        "outputId": "dbc9bcea-a99c-41cc-a8e3-f43f419eb277"
      },
      "outputs": [
        {
          "name": "stdout",
          "output_type": "stream",
          "text": [
            "\n",
            "Resultats de 5 Epochs:\n",
            "              precision    recall  f1-score   support\n",
            "\n",
            "           0     0.7387    0.5235    0.6128      1253\n",
            "           1     0.7444    0.8823    0.8075      1971\n",
            "\n",
            "    accuracy                         0.7429      3224\n",
            "   macro avg     0.7416    0.7029    0.7102      3224\n",
            "weighted avg     0.7422    0.7429    0.7318      3224\n",
            "\n",
            "ROC AUC: 0.8273039681932313\n"
          ]
        },
        {
          "data": {
            "image/png": "[encoded data removed]",
            "text/plain": [
              "<Figure size 640x480 with 2 Axes>"
            ]
          },
          "metadata": {},
          "output_type": "display_data"
        },
        {
          "name": "stdout",
          "output_type": "stream",
          "text": [
            "\n",
            "Resultats de 6 Epochs:\n",
            "              precision    recall  f1-score   support\n",
            "\n",
            "           0     0.6791    0.8747    0.7646      1253\n",
            "           1     0.9025    0.7372    0.8115      1971\n",
            "\n",
            "    accuracy                         0.7906      3224\n",
            "   macro avg     0.7908    0.8059    0.7880      3224\n",
            "weighted avg     0.8157    0.7906    0.7933      3224\n",
            "\n",
            "ROC AUC: 0.8731608320649418\n"
          ]
        },
        {
          "data": {
            "image/png": "[encoded data removed]",
            "text/plain": [
              "<Figure size 640x480 with 2 Axes>"
            ]
          },
          "metadata": {},
          "output_type": "display_data"
        },
        {
          "name": "stdout",
          "output_type": "stream",
          "text": [
            "\n",
            "Resultats de 8 Epochs:\n",
            "              precision    recall  f1-score   support\n",
            "\n",
            "           0     0.7451    0.7933    0.7685      1253\n",
            "           1     0.8630    0.8275    0.8449      1971\n",
            "\n",
            "    accuracy                         0.8142      3224\n",
            "   macro avg     0.8040    0.8104    0.8067      3224\n",
            "weighted avg     0.8172    0.8142    0.8152      3224\n",
            "\n",
            "ROC AUC: 0.8888075012663671\n"
          ]
        },
        {
          "data": {
            "image/png": "[encoded data removed]",
            "text/plain": [
              "<Figure size 640x480 with 2 Axes>"
            ]
          },
          "metadata": {},
          "output_type": "display_data"
        },
        {
          "name": "stdout",
          "output_type": "stream",
          "text": [
            "\n",
            "Resultats de 10 Epochs:\n",
            "              precision    recall  f1-score   support\n",
            "\n",
            "           0     0.7269    0.8348    0.7771      1253\n",
            "           1     0.8840    0.8006    0.8403      1971\n",
            "\n",
            "    accuracy                         0.8139      3224\n",
            "   macro avg     0.8055    0.8177    0.8087      3224\n",
            "weighted avg     0.8230    0.8139    0.8157      3224\n",
            "\n",
            "ROC AUC: 0.8890277742347842\n"
          ]
        },
        {
          "data": {
            "image/png": "[encoded data removed]",
            "text/plain": [
              "<Figure size 640x480 with 2 Axes>"
            ]
          },
          "metadata": {},
          "output_type": "display_data"
        },
        {
          "name": "stdout",
          "output_type": "stream",
          "text": [
            "\n",
            "Resultats de 15 Epochs:\n",
            "              precision    recall  f1-score   support\n",
            "\n",
            "           0     0.7347    0.8244    0.7770      1253\n",
            "           1     0.8790    0.8108    0.8435      1971\n",
            "\n",
            "    accuracy                         0.8161      3224\n",
            "   macro avg     0.8068    0.8176    0.8102      3224\n",
            "weighted avg     0.8229    0.8161    0.8176      3224\n",
            "\n",
            "ROC AUC: 0.8962056766449511\n"
          ]
        },
        {
          "data": {
            "image/png": "[encoded data removed]",
            "text/plain": [
              "<Figure size 640x480 with 2 Axes>"
            ]
          },
          "metadata": {},
          "output_type": "display_data"
        },
        {
          "name": "stdout",
          "output_type": "stream",
          "text": [
            "\n",
            "Resultats de 20 Epochs:\n",
            "              precision    recall  f1-score   support\n",
            "\n",
            "           0     0.7753    0.7462    0.7605      1253\n",
            "           1     0.8424    0.8625    0.8523      1971\n",
            "\n",
            "    accuracy                         0.8173      3224\n",
            "   macro avg     0.8089    0.8044    0.8064      3224\n",
            "weighted avg     0.8163    0.8173    0.8166      3224\n",
            "\n",
            "ROC AUC: 0.8970323076468327\n"
          ]
        },
        {
          "data": {
            "image/png": "[encoded data removed]",
            "text/plain": [
              "<Figure size 640x480 with 2 Axes>"
            ]
          },
          "metadata": {},
          "output_type": "display_data"
        },
        {
          "name": "stdout",
          "output_type": "stream",
          "text": [
            "\n",
            "Resultats de 30 Epochs:\n",
            "              precision    recall  f1-score   support\n",
            "\n",
            "           0     0.8146    0.5539    0.6594      1253\n",
            "           1     0.7643    0.9198    0.8349      1971\n",
            "\n",
            "    accuracy                         0.7776      3224\n",
            "   macro avg     0.7894    0.7369    0.7471      3224\n",
            "weighted avg     0.7839    0.7776    0.7667      3224\n",
            "\n",
            "ROC AUC: 0.8938110179405043\n"
          ]
        },
        {
          "data": {
            "image/png": "[encoded data removed]",
            "text/plain": [
              "<Figure size 640x480 with 2 Axes>"
            ]
          },
          "metadata": {},
          "output_type": "display_data"
        },
        {
          "name": "stdout",
          "output_type": "stream",
          "text": [
            "\n",
            "Resultats de 50 Epochs:\n",
            "              precision    recall  f1-score   support\n",
            "\n",
            "           0     0.7114    0.8420    0.7712      1253\n",
            "           1     0.8863    0.7829    0.8314      1971\n",
            "\n",
            "    accuracy                         0.8058      3224\n",
            "   macro avg     0.7988    0.8124    0.8013      3224\n",
            "weighted avg     0.8183    0.8058    0.8080      3224\n",
            "\n",
            "ROC AUC: 0.8854495532386402\n"
          ]
        },
        {
          "data": {
            "image/png": "[encoded data removed]",
            "text/plain": [
              "<Figure size 640x480 with 2 Axes>"
            ]
          },
          "metadata": {},
          "output_type": "display_data"
        },
        {
          "name": "stdout",
          "output_type": "stream",
          "text": [
            "\n",
            "Resultats de 100 Epochs:\n",
            "              precision    recall  f1-score   support\n",
            "\n",
            "           0     0.7198    0.7749    0.7463      1253\n",
            "           1     0.8496    0.8082    0.8284      1971\n",
            "\n",
            "    accuracy                         0.7953      3224\n",
            "   macro avg     0.7847    0.7916    0.7874      3224\n",
            "weighted avg     0.7992    0.7953    0.7965      3224\n",
            "\n",
            "ROC AUC: 0.8752530203513597\n"
          ]
        },
        {
          "data": {
            "image/png": "[encoded data removed]",
            "text/plain": [
              "<Figure size 640x480 with 2 Axes>"
            ]
          },
          "metadata": {},
          "output_type": "display_data"
        }
      ],
      "source": [
        "reports = []\n",
        "\n",
        "for epoch in epochs_save_list:\n",
        "    device = torch.device(\"cuda\" if torch.cuda.is_available() else \"cpu\")\n",
        "    torch.manual_seed(42)\n",
        "    torch.cuda.manual_seed(42)\n",
        "    torch.cuda.manual_seed_all(42)\n",
        "    model = RunPassModel(\n",
        "        player_feat_dim=12,\n",
        "        track_feat_dim=7,\n",
        "        hidden_dim=64,\n",
        "        output_dim=1\n",
        "    ).to(device)\n",
        "    model.load_state_dict(torch.load(f\"model_{epoch}Epochs.pth\", weights_only=True))\n",
        "    print(f\"\\nResultats de {epoch} Epochs:\")\n",
        "    all_labels, all_preds, report = test_model(model, dataloader_test)\n",
        "    reports.append(report)\n",
        "    print_confusion_matrix(all_labels, all_preds, title=f\"Matriu de confusió amb {epoch} Epochs\")\n"
      ]
    },
    {
      "cell_type": "code",
      "execution_count": 54,
      "id": "TAmTVpK93BKA",
      "metadata": {
        "colab": {
          "base_uri": "https://localhost:8080/",
          "height": 332
        },
        "id": "TAmTVpK93BKA",
        "outputId": "1b91c968-d108-4f1b-f01d-405f3b6ddb0f"
      },
      "outputs": [
        {
          "data": {
            "application/vnd.google.colaboratory.intrinsic+json": {
              "summary": "{\n  \"name\": \"metrics\",\n  \"rows\": 9,\n  \"fields\": [\n    {\n      \"column\": \"Epochs\",\n      \"properties\": {\n        \"dtype\": \"number\",\n        \"std\": 30,\n        \"min\": 5,\n        \"max\": 100,\n        \"num_unique_values\": 9,\n        \"samples\": [\n          50,\n          6,\n          20\n        ],\n        \"semantic_type\": \"\",\n        \"description\": \"\"\n      }\n    },\n    {\n      \"column\": \"Accuracy\",\n      \"properties\": {\n        \"dtype\": \"string\",\n        \"num_unique_values\": 9,\n        \"samples\": [\n          \"80.58%\",\n          \"79.06%\",\n          \"81.73%\"\n        ],\n        \"semantic_type\": \"\",\n        \"description\": \"\"\n      }\n    },\n    {\n      \"column\": \"Precision\",\n      \"properties\": {\n        \"dtype\": \"string\",\n        \"num_unique_values\": 9,\n        \"samples\": [\n          \"71.14%\",\n          \"67.91%\",\n          \"77.53%\"\n        ],\n        \"semantic_type\": \"\",\n        \"description\": \"\"\n      }\n    },\n    {\n      \"column\": \"Recall\",\n      \"properties\": {\n        \"dtype\": \"string\",\n        \"num_unique_values\": 9,\n        \"samples\": [\n          \"84.2%\",\n          \"87.47%\",\n          \"74.62%\"\n        ],\n        \"semantic_type\": \"\",\n        \"description\": \"\"\n      }\n    },\n    {\n      \"column\": \"f1-score\",\n      \"properties\": {\n        \"dtype\": \"string\",\n        \"num_unique_values\": 9,\n        \"samples\": [\n          \"77.12%\",\n          \"76.46%\",\n          \"76.05%\"\n        ],\n        \"semantic_type\": \"\",\n        \"description\": \"\"\n      }\n    }\n  ]\n}",
              "type": "dataframe",
              "variable_name": "metrics"
            },
            "text/html": [
              "\n",
              "  <div id=\"df-0c2b2393-b124-4ab5-8e86-4865b76f3ebf\" class=\"colab-df-container\">\n",
              "    <div>\n",
              "<style scoped>\n",
              "    .dataframe tbody tr th:only-of-type {\n",
              "        vertical-align: middle;\n",
              "    }\n",
              "\n",
              "    .dataframe tbody tr th {\n",
              "        vertical-align: top;\n",
              "    }\n",
              "\n",
              "    .dataframe thead th {\n",
              "        text-align: right;\n",
              "    }\n",
              "</style>\n",
              "<table border=\"1\" class=\"dataframe\">\n",
              "  <thead>\n",
              "    <tr style=\"text-align: right;\">\n",
              "      <th></th>\n",
              "      <th>Epochs</th>\n",
              "      <th>Accuracy</th>\n",
              "      <th>Precision</th>\n",
              "      <th>Recall</th>\n",
              "      <th>f1-score</th>\n",
              "    </tr>\n",
              "  </thead>\n",
              "  <tbody>\n",
              "    <tr>\n",
              "      <th>0</th>\n",
              "      <td>5</td>\n",
              "      <td>74.29%</td>\n",
              "      <td>73.87%</td>\n",
              "      <td>52.35%</td>\n",
              "      <td>61.28%</td>\n",
              "    </tr>\n",
              "    <tr>\n",
              "      <th>1</th>\n",
              "      <td>6</td>\n",
              "      <td>79.06%</td>\n",
              "      <td>67.91%</td>\n",
              "      <td>87.47%</td>\n",
              "      <td>76.46%</td>\n",
              "    </tr>\n",
              "    <tr>\n",
              "      <th>2</th>\n",
              "      <td>8</td>\n",
              "      <td>81.42%</td>\n",
              "      <td>74.51%</td>\n",
              "      <td>79.33%</td>\n",
              "      <td>76.85%</td>\n",
              "    </tr>\n",
              "    <tr>\n",
              "      <th>3</th>\n",
              "      <td>10</td>\n",
              "      <td>81.39%</td>\n",
              "      <td>72.69%</td>\n",
              "      <td>83.48%</td>\n",
              "      <td>77.71%</td>\n",
              "    </tr>\n",
              "    <tr>\n",
              "      <th>4</th>\n",
              "      <td>15</td>\n",
              "      <td>81.61%</td>\n",
              "      <td>73.47%</td>\n",
              "      <td>82.44%</td>\n",
              "      <td>77.7%</td>\n",
              "    </tr>\n",
              "    <tr>\n",
              "      <th>5</th>\n",
              "      <td>20</td>\n",
              "      <td>81.73%</td>\n",
              "      <td>77.53%</td>\n",
              "      <td>74.62%</td>\n",
              "      <td>76.05%</td>\n",
              "    </tr>\n",
              "    <tr>\n",
              "      <th>6</th>\n",
              "      <td>30</td>\n",
              "      <td>77.76%</td>\n",
              "      <td>81.46%</td>\n",
              "      <td>55.39%</td>\n",
              "      <td>65.94%</td>\n",
              "    </tr>\n",
              "    <tr>\n",
              "      <th>7</th>\n",
              "      <td>50</td>\n",
              "      <td>80.58%</td>\n",
              "      <td>71.14%</td>\n",
              "      <td>84.2%</td>\n",
              "      <td>77.12%</td>\n",
              "    </tr>\n",
              "    <tr>\n",
              "      <th>8</th>\n",
              "      <td>100</td>\n",
              "      <td>79.53%</td>\n",
              "      <td>71.98%</td>\n",
              "      <td>77.49%</td>\n",
              "      <td>74.63%</td>\n",
              "    </tr>\n",
              "  </tbody>\n",
              "</table>\n",
              "</div>\n",
              "    <div class=\"colab-df-buttons\">\n",
              "\n",
              "  <div class=\"colab-df-container\">\n",
              "    <button class=\"colab-df-convert\" onclick=\"convertToInteractive('df-0c2b2393-b124-4ab5-8e86-4865b76f3ebf')\"\n",
              "            title=\"Convert this dataframe to an interactive table.\"\n",
              "            style=\"display:none;\">\n",
              "\n",
              "  <svg xmlns=\"http://www.w3.org/2000/svg\" height=\"24px\" viewBox=\"0 -960 960 960\">\n",
              "    <path d=\"M120-120v-720h720v720H120Zm60-500h600v-160H180v160Zm220 220h160v-160H400v160Zm0 220h160v-160H400v160ZM180-400h160v-160H180v160Zm440 0h160v-160H620v160ZM180-180h160v-160H180v160Zm440 0h160v-160H620v160Z\"/>\n",
              "  </svg>\n",
              "    </button>\n",
              "\n",
              "  <style>\n",
              "    .colab-df-container {\n",
              "      display:flex;\n",
              "      gap: 12px;\n",
              "    }\n",
              "\n",
              "    .colab-df-convert {\n",
              "      background-color: #E8F0FE;\n",
              "      border: none;\n",
              "      border-radius: 50%;\n",
              "      cursor: pointer;\n",
              "      display: none;\n",
              "      fill: #1967D2;\n",
              "      height: 32px;\n",
              "      padding: 0 0 0 0;\n",
              "      width: 32px;\n",
              "    }\n",
              "\n",
              "    .colab-df-convert:hover {\n",
              "      background-color: #E2EBFA;\n",
              "      box-shadow: 0px 1px 2px rgba(60, 64, 67, 0.3), 0px 1px 3px 1px rgba(60, 64, 67, 0.15);\n",
              "      fill: #174EA6;\n",
              "    }\n",
              "\n",
              "    .colab-df-buttons div {\n",
              "      margin-bottom: 4px;\n",
              "    }\n",
              "\n",
              "    [theme=dark] .colab-df-convert {\n",
              "      background-color: #3B4455;\n",
              "      fill: #D2E3FC;\n",
              "    }\n",
              "\n",
              "    [theme=dark] .colab-df-convert:hover {\n",
              "      background-color: #434B5C;\n",
              "      box-shadow: 0px 1px 3px 1px rgba(0, 0, 0, 0.15);\n",
              "      filter: drop-shadow(0px 1px 2px rgba(0, 0, 0, 0.3));\n",
              "      fill: #FFFFFF;\n",
              "    }\n",
              "  </style>\n",
              "\n",
              "    <script>\n",
              "      const buttonEl =\n",
              "        document.querySelector('#df-0c2b2393-b124-4ab5-8e86-4865b76f3ebf button.colab-df-convert');\n",
              "      buttonEl.style.display =\n",
              "        google.colab.kernel.accessAllowed ? 'block' : 'none';\n",
              "\n",
              "      async function convertToInteractive(key) {\n",
              "        const element = document.querySelector('#df-0c2b2393-b124-4ab5-8e86-4865b76f3ebf');\n",
              "        const dataTable =\n",
              "          await google.colab.kernel.invokeFunction('convertToInteractive',\n",
              "                                                    [key], {});\n",
              "        if (!dataTable) return;\n",
              "\n",
              "        const docLinkHtml = 'Like what you see? Visit the ' +\n",
              "          '<a target=\"_blank\" href=https://colab.research.google.com/notebooks/data_table.ipynb>data table notebook</a>'\n",
              "          + ' to learn more about interactive tables.';\n",
              "        element.innerHTML = '';\n",
              "        dataTable['output_type'] = 'display_data';\n",
              "        await google.colab.output.renderOutput(dataTable, element);\n",
              "        const docLink = document.createElement('div');\n",
              "        docLink.innerHTML = docLinkHtml;\n",
              "        element.appendChild(docLink);\n",
              "      }\n",
              "    </script>\n",
              "  </div>\n",
              "\n",
              "\n",
              "    <div id=\"df-e088bd8b-78d8-4114-9e1f-835a0792048a\">\n",
              "      <button class=\"colab-df-quickchart\" onclick=\"quickchart('df-e088bd8b-78d8-4114-9e1f-835a0792048a')\"\n",
              "                title=\"Suggest charts\"\n",
              "                style=\"display:none;\">\n",
              "\n",
              "<svg xmlns=\"http://www.w3.org/2000/svg\" height=\"24px\"viewBox=\"0 0 24 24\"\n",
              "     width=\"24px\">\n",
              "    <g>\n",
              "        <path d=\"M19 3H5c-1.1 0-2 .9-2 2v14c0 1.1.9 2 2 2h14c1.1 0 2-.9 2-2V5c0-1.1-.9-2-2-2zM9 17H7v-7h2v7zm4 0h-2V7h2v10zm4 0h-2v-4h2v4z\"/>\n",
              "    </g>\n",
              "</svg>\n",
              "      </button>\n",
              "\n",
              "<style>\n",
              "  .colab-df-quickchart {\n",
              "      --bg-color: #E8F0FE;\n",
              "      --fill-color: #1967D2;\n",
              "      --hover-bg-color: #E2EBFA;\n",
              "      --hover-fill-color: #174EA6;\n",
              "      --disabled-fill-color: #AAA;\n",
              "      --disabled-bg-color: #DDD;\n",
              "  }\n",
              "\n",
              "  [theme=dark] .colab-df-quickchart {\n",
              "      --bg-color: #3B4455;\n",
              "      --fill-color: #D2E3FC;\n",
              "      --hover-bg-color: #434B5C;\n",
              "      --hover-fill-color: #FFFFFF;\n",
              "      --disabled-bg-color: #3B4455;\n",
              "      --disabled-fill-color: #666;\n",
              "  }\n",
              "\n",
              "  .colab-df-quickchart {\n",
              "    background-color: var(--bg-color);\n",
              "    border: none;\n",
              "    border-radius: 50%;\n",
              "    cursor: pointer;\n",
              "    display: none;\n",
              "    fill: var(--fill-color);\n",
              "    height: 32px;\n",
              "    padding: 0;\n",
              "    width: 32px;\n",
              "  }\n",
              "\n",
              "  .colab-df-quickchart:hover {\n",
              "    background-color: var(--hover-bg-color);\n",
              "    box-shadow: 0 1px 2px rgba(60, 64, 67, 0.3), 0 1px 3px 1px rgba(60, 64, 67, 0.15);\n",
              "    fill: var(--button-hover-fill-color);\n",
              "  }\n",
              "\n",
              "  .colab-df-quickchart-complete:disabled,\n",
              "  .colab-df-quickchart-complete:disabled:hover {\n",
              "    background-color: var(--disabled-bg-color);\n",
              "    fill: var(--disabled-fill-color);\n",
              "    box-shadow: none;\n",
              "  }\n",
              "\n",
              "  .colab-df-spinner {\n",
              "    border: 2px solid var(--fill-color);\n",
              "    border-color: transparent;\n",
              "    border-bottom-color: var(--fill-color);\n",
              "    animation:\n",
              "      spin 1s steps(1) infinite;\n",
              "  }\n",
              "\n",
              "  @keyframes spin {\n",
              "    0% {\n",
              "      border-color: transparent;\n",
              "      border-bottom-color: var(--fill-color);\n",
              "      border-left-color: var(--fill-color);\n",
              "    }\n",
              "    20% {\n",
              "      border-color: transparent;\n",
              "      border-left-color: var(--fill-color);\n",
              "      border-top-color: var(--fill-color);\n",
              "    }\n",
              "    30% {\n",
              "      border-color: transparent;\n",
              "      border-left-color: var(--fill-color);\n",
              "      border-top-color: var(--fill-color);\n",
              "      border-right-color: var(--fill-color);\n",
              "    }\n",
              "    40% {\n",
              "      border-color: transparent;\n",
              "      border-right-color: var(--fill-color);\n",
              "      border-top-color: var(--fill-color);\n",
              "    }\n",
              "    60% {\n",
              "      border-color: transparent;\n",
              "      border-right-color: var(--fill-color);\n",
              "    }\n",
              "    80% {\n",
              "      border-color: transparent;\n",
              "      border-right-color: var(--fill-color);\n",
              "      border-bottom-color: var(--fill-color);\n",
              "    }\n",
              "    90% {\n",
              "      border-color: transparent;\n",
              "      border-bottom-color: var(--fill-color);\n",
              "    }\n",
              "  }\n",
              "</style>\n",
              "\n",
              "      <script>\n",
              "        async function quickchart(key) {\n",
              "          const quickchartButtonEl =\n",
              "            document.querySelector('#' + key + ' button');\n",
              "          quickchartButtonEl.disabled = true;  // To prevent multiple clicks.\n",
              "          quickchartButtonEl.classList.add('colab-df-spinner');\n",
              "          try {\n",
              "            const charts = await google.colab.kernel.invokeFunction(\n",
              "                'suggestCharts', [key], {});\n",
              "          } catch (error) {\n",
              "            console.error('Error during call to suggestCharts:', error);\n",
              "          }\n",
              "          quickchartButtonEl.classList.remove('colab-df-spinner');\n",
              "          quickchartButtonEl.classList.add('colab-df-quickchart-complete');\n",
              "        }\n",
              "        (() => {\n",
              "          let quickchartButtonEl =\n",
              "            document.querySelector('#df-e088bd8b-78d8-4114-9e1f-835a0792048a button');\n",
              "          quickchartButtonEl.style.display =\n",
              "            google.colab.kernel.accessAllowed ? 'block' : 'none';\n",
              "        })();\n",
              "      </script>\n",
              "    </div>\n",
              "\n",
              "  <div id=\"id_1c1dc063-1d07-484e-ae77-4318c9f78b64\">\n",
              "    <style>\n",
              "      .colab-df-generate {\n",
              "        background-color: #E8F0FE;\n",
              "        border: none;\n",
              "        border-radius: 50%;\n",
              "        cursor: pointer;\n",
              "        display: none;\n",
              "        fill: #1967D2;\n",
              "        height: 32px;\n",
              "        padding: 0 0 0 0;\n",
              "        width: 32px;\n",
              "      }\n",
              "\n",
              "      .colab-df-generate:hover {\n",
              "        background-color: #E2EBFA;\n",
              "        box-shadow: 0px 1px 2px rgba(60, 64, 67, 0.3), 0px 1px 3px 1px rgba(60, 64, 67, 0.15);\n",
              "        fill: #174EA6;\n",
              "      }\n",
              "\n",
              "      [theme=dark] .colab-df-generate {\n",
              "        background-color: #3B4455;\n",
              "        fill: #D2E3FC;\n",
              "      }\n",
              "\n",
              "      [theme=dark] .colab-df-generate:hover {\n",
              "        background-color: #434B5C;\n",
              "        box-shadow: 0px 1px 3px 1px rgba(0, 0, 0, 0.15);\n",
              "        filter: drop-shadow(0px 1px 2px rgba(0, 0, 0, 0.3));\n",
              "        fill: #FFFFFF;\n",
              "      }\n",
              "    </style>\n",
              "    <button class=\"colab-df-generate\" onclick=\"generateWithVariable('metrics')\"\n",
              "            title=\"Generate code using this dataframe.\"\n",
              "            style=\"display:none;\">\n",
              "\n",
              "  <svg xmlns=\"http://www.w3.org/2000/svg\" height=\"24px\"viewBox=\"0 0 24 24\"\n",
              "       width=\"24px\">\n",
              "    <path d=\"M7,19H8.4L18.45,9,17,7.55,7,17.6ZM5,21V16.75L18.45,3.32a2,2,0,0,1,2.83,0l1.4,1.43a1.91,1.91,0,0,1,.58,1.4,1.91,1.91,0,0,1-.58,1.4L9.25,21ZM18.45,9,17,7.55Zm-12,3A5.31,5.31,0,0,0,4.9,8.1,5.31,5.31,0,0,0,1,6.5,5.31,5.31,0,0,0,4.9,4.9,5.31,5.31,0,0,0,6.5,1,5.31,5.31,0,0,0,8.1,4.9,5.31,5.31,0,0,0,12,6.5,5.46,5.46,0,0,0,6.5,12Z\"/>\n",
              "  </svg>\n",
              "    </button>\n",
              "    <script>\n",
              "      (() => {\n",
              "      const buttonEl =\n",
              "        document.querySelector('#id_1c1dc063-1d07-484e-ae77-4318c9f78b64 button.colab-df-generate');\n",
              "      buttonEl.style.display =\n",
              "        google.colab.kernel.accessAllowed ? 'block' : 'none';\n",
              "\n",
              "      buttonEl.onclick = () => {\n",
              "        google.colab.notebook.generateWithVariable('metrics');\n",
              "      }\n",
              "      })();\n",
              "    </script>\n",
              "  </div>\n",
              "\n",
              "    </div>\n",
              "  </div>\n"
            ],
            "text/plain": [
              "   Epochs Accuracy Precision  Recall f1-score\n",
              "0       5   74.29%    73.87%  52.35%   61.28%\n",
              "1       6   79.06%    67.91%  87.47%   76.46%\n",
              "2       8   81.42%    74.51%  79.33%   76.85%\n",
              "3      10   81.39%    72.69%  83.48%   77.71%\n",
              "4      15   81.61%    73.47%  82.44%    77.7%\n",
              "5      20   81.73%    77.53%  74.62%   76.05%\n",
              "6      30   77.76%    81.46%  55.39%   65.94%\n",
              "7      50   80.58%    71.14%   84.2%   77.12%\n",
              "8     100   79.53%    71.98%  77.49%   74.63%"
            ]
          },
          "execution_count": 54,
          "metadata": {},
          "output_type": "execute_result"
        }
      ],
      "source": [
        "def get_percentage(num):\n",
        "    return f\"{round(num * 100, 2)}%\"\n",
        "\n",
        "rows = []\n",
        "for i, report in enumerate(reports):\n",
        "    row = [epochs_save_list[i],\n",
        "           get_percentage(report[\"accuracy\"]),\n",
        "           get_percentage(report['0']['precision']),\n",
        "           get_percentage(report['0']['recall']),\n",
        "           get_percentage(report['0']['f1-score'])\n",
        "           ]\n",
        "    rows.append(row)\n",
        "\n",
        "metrics = pd.DataFrame(data = rows, columns=[\"Epochs\", \"Accuracy\", \"Precision\", \"Recall\", \"f1-score\"])\n",
        "metrics"
      ]
    },
    {
      "cell_type": "code",
      "execution_count": 55,
      "id": "gA4vDzik3BEr",
      "metadata": {
        "colab": {
          "base_uri": "https://localhost:8080/"
        },
        "id": "gA4vDzik3BEr",
        "outputId": "860d8abf-17e4-4560-b6e9-5c9f0a99bf41"
      },
      "outputs": [
        {
          "name": "stdout",
          "output_type": "stream",
          "text": [
            "\\begin{tabular}{rllll}\n",
            "\\toprule\n",
            "Epochs & Accuracy & Precision & Recall & f1-score \\\\\n",
            "\\midrule\n",
            "5 & 74.29\\% & 73.87\\% & 52.35\\% & 61.28\\% \\\\\n",
            "6 & 79.06\\% & 67.91\\% & 87.47\\% & 76.46\\% \\\\\n",
            "8 & 81.42\\% & 74.51\\% & 79.33\\% & 76.85\\% \\\\\n",
            "10 & 81.39\\% & 72.69\\% & 83.48\\% & 77.71\\% \\\\\n",
            "15 & 81.61\\% & 73.47\\% & 82.44\\% & 77.7\\% \\\\\n",
            "20 & 81.73\\% & 77.53\\% & 74.62\\% & 76.05\\% \\\\\n",
            "30 & 77.76\\% & 81.46\\% & 55.39\\% & 65.94\\% \\\\\n",
            "50 & 80.58\\% & 71.14\\% & 84.2\\% & 77.12\\% \\\\\n",
            "100 & 79.53\\% & 71.98\\% & 77.49\\% & 74.63\\% \\\\\n",
            "\\bottomrule\n",
            "\\end{tabular}\n",
            "\n"
          ]
        }
      ],
      "source": [
        "print(metrics.to_latex(index=False, escape=True))"
      ]
    }
  ],
  "metadata": {
    "accelerator": "GPU",
    "colab": {
      "gpuType": "T4",
      "provenance": []
    },
    "kernelspec": {
      "display_name": "Python 3",
      "name": "python3"
    },
    "language_info": {
      "codemirror_mode": {
        "name": "ipython",
        "version": 3
      },
      "file_extension": ".py",
      "mimetype": "text/x-python",
      "name": "python",
      "nbconvert_exporter": "python",
      "pygments_lexer": "ipython3",
      "version": "3.11.7"
    }
  },
  "nbformat": 4,
  "nbformat_minor": 5
}
